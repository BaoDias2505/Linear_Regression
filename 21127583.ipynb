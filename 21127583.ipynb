{
 "cells": [
  {
   "cell_type": "markdown",
   "metadata": {},
   "source": [
    "# <center>Đồ án 3: Linear Regression</center>"
   ]
  },
  {
   "cell_type": "markdown",
   "metadata": {},
   "source": [
    "# Thông tin sinh viên\n",
    "\n",
    "- Họ và tên: Nguyễn Mậu Gia Bảo\n",
    "- MSSV: 21127583\n",
    "- Lớp: 21CLC08"
   ]
  },
  {
   "cell_type": "markdown",
   "metadata": {},
   "source": [
    "# Import"
   ]
  },
  {
   "cell_type": "code",
   "execution_count": 3,
   "metadata": {},
   "outputs": [],
   "source": [
    "import pandas as pd\n",
    "import numpy as np\n",
    "\n",
    "# Import thêm dữ thư viện nếu cần\n",
    "from sklearn.linear_model import LinearRegression\n",
    "from sklearn.model_selection import cross_val_score\n",
    "import seaborn as sns \n",
    "import matplotlib.pyplot as plt"
   ]
  },
  {
   "cell_type": "markdown",
   "metadata": {},
   "source": [
    "# Đọc dữ liệu"
   ]
  },
  {
   "cell_type": "code",
   "execution_count": 4,
   "metadata": {},
   "outputs": [],
   "source": [
    "# Đọc dữ liệu bằng pandas\n",
    "train = pd.read_csv('train.csv')\n",
    "test = pd.read_csv('test.csv')\n",
    "\n",
    "# Lấy các đặc trưng X và giá trị mục tiêu y cho các tập huấn luyện (train) và kiểm tra (test)\n",
    "X_train = train.iloc[:, :-1]    # Dataframe (chứa các đặc trưng huấn luyện)\n",
    "y_train = train.iloc[:, -1]     # Series    (chứa 1 giá trị mục tiêu kiểm tra)\n",
    "\n",
    "X_test = test.iloc[:, :-1]      # Dataframe (chứa các đặc trưng kiểm tra)\n",
    "y_test = test.iloc[:, -1]       # Series    (chứa 1 giá trị mục tiêu kiểm tra)\n",
    "\n",
    "# Sinh viên có thể sử dụng các khác nếu cần\n"
   ]
  },
  {
   "cell_type": "markdown",
   "metadata": {},
   "source": [
    "# Cài đặt hàm"
   ]
  },
  {
   "cell_type": "code",
   "execution_count": 5,
   "metadata": {},
   "outputs": [],
   "source": [
    "# Cài đặt các hàm cần thiết ở đây\n"
   ]
  },
  {
   "cell_type": "markdown",
   "metadata": {},
   "source": [
    "# Yêu cầu 1a: Sử dụng toàn bộ 11 đặc trưng đầu tiên `Gender`, `10percentage`, `12percentage`, `CollegeTier`, `Degree`, `collegeGPA`, `CollegeCityTier`, `English`, `Logical`, `Quant`, `Domain` (2 điểm) "
   ]
  },
  {
   "cell_type": "code",
   "execution_count": 6,
   "metadata": {},
   "outputs": [
    {
     "name": "stdout",
     "output_type": "stream",
     "text": [
      "     Actual      Predicted\n",
      "0    280000  194207.931605\n",
      "1    520000  340719.587174\n",
      "2    150000  325416.848614\n",
      "3    180000  273672.747998\n",
      "4    300000  298369.367264\n",
      "..      ...            ...\n",
      "745  330000  283138.705779\n",
      "746  450000  381114.179673\n",
      "747  180000  297490.122949\n",
      "748   90000  242061.854334\n",
      "749  360000  328403.653091\n",
      "\n",
      "[750 rows x 2 columns]\n",
      "𝜃_0 =  49248.0897348093\n",
      "            Feature   Coefficient\n",
      "0            Gender -23183.329508\n",
      "1      10percentage    702.766792\n",
      "2      12percentage   1259.018788\n",
      "3       CollegeTier -99570.608141\n",
      "4            Degree  18369.962450\n",
      "5        collegeGPA   1297.532000\n",
      "6   CollegeCityTier  -8836.727123\n",
      "7           English    141.759939\n",
      "8           Logical    145.742347\n",
      "9             Quant    114.643313\n",
      "10           Domain  34955.750405\n"
     ]
    }
   ],
   "source": [
    "# Phần code cho yêu cầu 1a\n",
    "X_train1 = train.iloc[:, :11]\n",
    "X_test1 = test.iloc[:, :11]\n",
    "reg = LinearRegression()\n",
    "\n",
    "reg.fit(X_train1,y_train)\n",
    "y_test_pre = reg.predict(X_test1)\n",
    "\n",
    "print(pd.DataFrame({'Actual': y_test,'Predicted': y_test_pre}))\n",
    "print('𝜃_0 = ',reg.intercept_)\n",
    "print(pd.DataFrame({'Feature': X_train1.columns, 'Coefficient': reg.coef_}))\n"
   ]
  },
  {
   "cell_type": "code",
   "execution_count": 7,
   "metadata": {},
   "outputs": [
    {
     "name": "stdout",
     "output_type": "stream",
     "text": [
      "MAE: 105052.52978823161\n"
     ]
    }
   ],
   "source": [
    "# Gọi hàm MAE (tự cài đặt hoặc từ thư viện) trên tập kiểm tra\n",
    "print(\"MAE:\",np.mean(np.abs(y_test - y_test_pre)))"
   ]
  },
  {
   "cell_type": "markdown",
   "metadata": {},
   "source": [
    "Công thức hồi quy (phần trọng số làm tròn đến 3 chữ số thập phân, ví dụ 0.012345 $\\to$ 0.012)\n",
    "\n",
    "$$\\text{Salary} = 49248.090 + -23183.330.Gender + 702.767.\\,10percentage + 1259.019.\\,12percentage + - 99570.608.CollegeTier +  18369.962.Degree + 1297.532.collegeGPA +  - 8836.727.CollegeCityTier +  141.760.English + 145.742.Logical + 114.643.Quant + 34955.750.Domain$$"
   ]
  },
  {
   "cell_type": "markdown",
   "metadata": {},
   "source": [
    "# Yêu cầu 1b: Xây dựng mô hình sử dụng duy nhất 1 đặc trưng tính cách với các đặc trưng tính cách gồm `conscientiousness`, `agreeableness`, `extraversion`, `nueroticism`, `openess_to_experience`, tìm mô hình cho kết quả tốt nhất (1 điểm)"
   ]
  },
  {
   "cell_type": "markdown",
   "metadata": {},
   "source": [
    "Lưu ý: khi sử dụng cross-validation, sinh viên cần xáo trộn dữ liệu 1 lần duy nhất và thực hiện trên toàn bộ đặc trưng"
   ]
  },
  {
   "cell_type": "code",
   "execution_count": 8,
   "metadata": {},
   "outputs": [
    {
     "name": "stdout",
     "output_type": "stream",
     "text": [
      "   STT Mô hình với 1 đặc trưng            MAE\n",
      "0    1       conscientiousness  124065.291310\n",
      "1    2           agreeableness  123519.095517\n",
      "2    3            extraversion  123766.856355\n",
      "3    4             nueroticism  123382.918395\n",
      "4    5   openess_to_experience  123800.495756\n",
      "Đặc trưng tốt nhất:  nueroticism\n"
     ]
    }
   ],
   "source": [
    "# Phần code cho yêu cầu 1b\n",
    "# Tìm ra đặc trưng tốt nhất\n",
    "# In ra các kết quả cross-validation như yêu cầu\n",
    "\n",
    "train2 = train.sample(frac=1)\n",
    "y_train2 = train2.iloc[:, -1]\n",
    "\n",
    "feature = []\n",
    "for i in range(18,23):\n",
    "    feature.append(train2.iloc[:, i].values.reshape(-1, 1))\n",
    "\n",
    "name = train2.columns[18:23]\n",
    "result =[]\n",
    "for i in range(5):\n",
    "    result.append(cross_val_score(reg, feature[i],y_train2, scoring=\"neg_mean_absolute_error\", cv=5))\n",
    "    \n",
    "MAE = []\n",
    "cross = []\n",
    "for i in range(5):\n",
    "    MAE.append(np.mean(np.abs(result[i])))\n",
    "    cross.append([i+1,name[i], MAE[i]])\n",
    "    \n",
    "print(pd.DataFrame(cross, columns=['STT','Mô hình với 1 đặc trưng',' MAE']))\n",
    "\n",
    "best1b = np.argmin(MAE)\n",
    "print(\"Đặc trưng tốt nhất: \", name[best1b])"
   ]
  },
  {
   "cell_type": "code",
   "execution_count": 9,
   "metadata": {},
   "outputs": [
    {
     "name": "stdout",
     "output_type": "stream",
     "text": [
      "     Actual      Predicted\n",
      "0    280000  316828.694183\n",
      "1    520000  296119.311476\n",
      "2    150000  297530.805068\n",
      "3    180000  294185.517191\n",
      "4    300000  290122.466398\n",
      "..      ...            ...\n",
      "745  330000  328713.438182\n",
      "746  450000  303649.413497\n",
      "747  180000  326681.912785\n",
      "748   90000  322476.270699\n",
      "749  360000  299884.362487\n",
      "\n",
      "[750 rows x 2 columns]\n",
      "𝜃_0 =  304647.55255226186\n",
      "       Feature   Coefficient\n",
      "0  nueroticism -16021.493662\n"
     ]
    }
   ],
   "source": [
    "# Huấn luyện lại mô hình best_personality_feature_model với đặc trưng tốt nhất trên toàn bộ tập huấn luyện\n",
    "\n",
    "X_best_trainb = X_train[['nueroticism']]\n",
    "X_best_testb = X_test[['nueroticism']]\n",
    "\n",
    "reg1b = LinearRegression()\n",
    "reg1b.fit(X_best_trainb, y_train)\n",
    "\n",
    "y_test_pre1b = reg1b.predict(X_best_testb)\n",
    "\n",
    "print(pd.DataFrame({'Actual': y_test, 'Predicted': y_test_pre1b}))\n",
    "print('𝜃_0 = ',reg1b.intercept_)\n",
    "print(pd.DataFrame({'Feature': X_best_trainb.columns, 'Coefficient': reg1b.coef_}))"
   ]
  },
  {
   "cell_type": "code",
   "execution_count": 10,
   "metadata": {},
   "outputs": [
    {
     "name": "stdout",
     "output_type": "stream",
     "text": [
      "MAE: 119361.91739987816\n"
     ]
    }
   ],
   "source": [
    "# Gọi hàm MAE (tự cài đặt hoặc từ thư viện) trên tập kiểm tra với mô hình best_personality_feature_model\n",
    "print(\"MAE:\",np.mean(np.abs(y_test - y_test_pre1b)))"
   ]
  },
  {
   "cell_type": "markdown",
   "metadata": {},
   "source": [
    "Công thức hồi quy (phần trọng số làm tròn đến 3 chữ số thập phân, ví dụ 0.012345 $\\to$ 0.012)\n",
    "\n",
    "$$\\text{Salary} = 304647.553 + -16021.494.nueroticism$$"
   ]
  },
  {
   "cell_type": "markdown",
   "metadata": {},
   "source": [
    "# Yêu cầu 1c: Xây dựng mô hình sử dụng duy nhất 1 đặc trưng `English`, `Logical`, `Quant`, tìm mô hình cho kết quả tốt nhất (1 điểm)"
   ]
  },
  {
   "cell_type": "markdown",
   "metadata": {},
   "source": [
    "Lưu ý: khi sử dụng cross-validation, sinh viên cần xáo trộn dữ liệu 1 lần duy nhất và thực hiện trên toàn bộ đặc trưng"
   ]
  },
  {
   "cell_type": "code",
   "execution_count": 11,
   "metadata": {},
   "outputs": [
    {
     "name": "stdout",
     "output_type": "stream",
     "text": [
      "   STT Mô hình với 1 đặc trưng            MAE\n",
      "0    1                 English  120813.211269\n",
      "1    2                 Logical  119856.743347\n",
      "2    3                   Quant  117206.118700\n",
      "Đặc trưng tốt nhất:  Quant\n"
     ]
    }
   ],
   "source": [
    "# Phần code cho yêu cầu 1c\n",
    "# Tìm ra đặc trưng tốt nhất\n",
    "# In ra các kết quả cross-validation như yêu cầu\n",
    "train3 = train.sample(frac=1)\n",
    "y_train3 = train3.iloc[:, -1]\n",
    "\n",
    "feature3 = []\n",
    "for i in range(7,10):\n",
    "    feature3.append(train3.iloc[:, i].values.reshape(-1, 1))\n",
    "\n",
    "name3 = train3.columns[7:10]\n",
    "result3 =[]\n",
    "for i in range(3):\n",
    "    result3.append(cross_val_score(reg, feature3[i], y_train3, scoring=\"neg_mean_absolute_error\", cv=5))\n",
    "    \n",
    "MAE3 = []\n",
    "cross3 = []\n",
    "for i in range(3):\n",
    "    MAE3.append(np.mean(np.abs(result3[i])))\n",
    "    cross3.append([i+1,name3[i], MAE3[i]])\n",
    "    \n",
    "print(pd.DataFrame(cross3, columns=['STT','Mô hình với 1 đặc trưng',' MAE']))\n",
    "\n",
    "best1c = np.argmin(MAE3)\n",
    "print(\"Đặc trưng tốt nhất: \", name3[best1c])"
   ]
  },
  {
   "cell_type": "code",
   "execution_count": 12,
   "metadata": {},
   "outputs": [
    {
     "name": "stdout",
     "output_type": "stream",
     "text": [
      "     Actual      Predicted\n",
      "0    280000  197063.009037\n",
      "1    520000  359358.093125\n",
      "2    150000  337226.945295\n",
      "3    180000  270833.501804\n",
      "4    300000  302185.961230\n",
      "..      ...            ...\n",
      "745  330000  302185.961230\n",
      "746  450000  326161.371379\n",
      "747  180000  245013.829336\n",
      "748   90000  322472.846741\n",
      "749  360000  311407.272826\n",
      "\n",
      "[750 rows x 2 columns]\n",
      "𝜃_0 =  117759.72931230697\n",
      "  Feature  Coefficient\n",
      "0   Quant   368.852464\n"
     ]
    }
   ],
   "source": [
    "# Huấn luyện lại mô hình best_skill_feature_model với đặc trưng tốt nhất trên toàn bộ tập huấn luyện\n",
    "X_best_trainc = X_train[['Quant']]\n",
    "X_best_testc = X_test[['Quant']]\n",
    "\n",
    "reg1c = LinearRegression()\n",
    "reg1c.fit(X_best_trainc, y_train)\n",
    "\n",
    "y_test_pre1c = reg1c.predict(X_best_testc)\n",
    "\n",
    "print(pd.DataFrame({'Actual': y_test, 'Predicted': y_test_pre1c}))\n",
    "print('𝜃_0 = ',reg1c.intercept_)\n",
    "print(pd.DataFrame({'Feature': X_best_trainc.columns, 'Coefficient': reg1c.coef_}))"
   ]
  },
  {
   "cell_type": "code",
   "execution_count": 13,
   "metadata": {},
   "outputs": [
    {
     "name": "stdout",
     "output_type": "stream",
     "text": [
      "MAE: 108814.05968837194\n"
     ]
    }
   ],
   "source": [
    "# Gọi hàm MAE (tự cài đặt hoặc từ thư viện) trên tập kiểm tra với mô hình best_skill_feature_model\n",
    "print(\"MAE:\",np.mean(np.abs(y_test - y_test_pre1c)))"
   ]
  },
  {
   "cell_type": "markdown",
   "metadata": {},
   "source": [
    "Công thức hồi quy (phần trọng số làm tròn đến 3 chữ số thập phân, ví dụ 0.012345 $\\to$ 0.012)\n",
    "\n",
    "$$\\text{Salary} = 117759.729 + 368.852.Quant$$"
   ]
  },
  {
   "cell_type": "markdown",
   "metadata": {},
   "source": [
    "# Yêu cầu 1d: Sinh viên tự xây dựng mô hình, tìm mô hình cho kết quả tốt nhất (3 điểm)"
   ]
  },
  {
   "cell_type": "markdown",
   "metadata": {},
   "source": [
    "Lưu ý: khi sử dụng cross-validation, sinh viên cần xáo trộn dữ liệu 1 lần duy nhất và thực hiện trên toàn bộ $m$ mô hình mà sinh viên thiết kế"
   ]
  },
  {
   "cell_type": "markdown",
   "metadata": {},
   "source": [
    "## Tìm mô hình"
   ]
  },
  {
   "cell_type": "code",
   "execution_count": 14,
   "metadata": {},
   "outputs": [
    {
     "data": {
      "image/png": "[encoded data removed]",
      "text/plain": [
       "<Figure size 1500x1000 with 2 Axes>"
      ]
     },
     "metadata": {},
     "output_type": "display_data"
    }
   ],
   "source": [
    "# Trình bày các phần tìm ra mô hình\n",
    "train4 = train.sample(frac=1)\n",
    "y_train4 = train4.iloc[:, -1]\n",
    "\n",
    "correlations = X_train.corrwith(y_train)\n",
    "correlation_df = pd.DataFrame({'Correlation': correlations })\n",
    "correlation_df = correlation_df.sort_values(by='Correlation',ascending =False)\n",
    "plt.figure(figsize=(15,10))\n",
    "sns.heatmap(correlation_df,annot=True,cmap=plt.cm.CMRmap_r)\n",
    "plt.show()\n",
    "\n",
    "X_train_1d_1 = train4.iloc[:, [1, 2, 5, 7, 8, 9, 10, 11]]\n",
    "X_train_1d_2 = train4.iloc[:, [1, 2, 5, 7, 8, 9, 10, 11]].apply(lambda x: np.power(x, 3))\n",
    "X_train_1d_3 = train4.iloc[:, [1, 2, 5, 7, 8, 9, 10, 11]].apply(lambda x: np.power(x, 4))"
   ]
  },
  {
   "cell_type": "markdown",
   "metadata": {},
   "source": [
    "## Thử nghiệm, so sánh các mô hình"
   ]
  },
  {
   "cell_type": "code",
   "execution_count": 15,
   "metadata": {},
   "outputs": [
    {
     "name": "stdout",
     "output_type": "stream",
     "text": [
      "   STT                          Mô hình             MAE\n",
      "0    1       8 đặc trưng tương quan nhất  113229.428984\n",
      "1    2  Mũ 3 8 đặc trưng tương quan nhất  113366.387526\n",
      "2    3  Mũ 4 8 đặc trưng tương quan nhất  113998.076621\n",
      "Mô hình tốt nhất:  8 đặc trưng tương quan nhất\n"
     ]
    }
   ],
   "source": [
    "# Phần code cho yêu cầu 1d\n",
    "# Tìm ra mô hình tốt nhất (tự thiết kế bởi sinh viên)\n",
    "# In ra các kết quả cross-validation như yêu cầu\n",
    "\n",
    "data = []\n",
    "data.append(X_train_1d_1.values)\n",
    "data.append(X_train_1d_2.values)\n",
    "data.append(X_train_1d_3.values)\n",
    "\n",
    "result4 = []\n",
    "for i in range(3):\n",
    "    result4.append(cross_val_score(reg, data[i], y_train4, scoring=\"neg_mean_absolute_error\", cv=5))\n",
    "\n",
    "MAE4 = []\n",
    "cross4 = []\n",
    "name4 = ['8 đặc trưng tương quan nhất', 'Mũ 3 8 đặc trưng tương quan nhất', 'Mũ 4 8 đặc trưng tương quan nhất']\n",
    "\n",
    "for i in range(3):\n",
    "    MAE4.append(np.mean(np.abs(result4[i])))\n",
    "    cross4.append([i+1, name4[i], MAE4[i]])\n",
    "\n",
    "print(pd.DataFrame(cross4, columns=['STT', 'Mô hình ', 'MAE']))\n",
    "\n",
    "best1d = np.argmin(MAE4)\n",
    "print(\"Mô hình tốt nhất: \", name4[best1d])\n",
    "name1d = name4[best1d]\n"
   ]
  },
  {
   "cell_type": "code",
   "execution_count": 16,
   "metadata": {},
   "outputs": [
    {
     "name": "stdout",
     "output_type": "stream",
     "text": [
      "     Actual      Predicted\n",
      "0    280000  198818.501223\n",
      "1    520000  356768.476072\n",
      "2    150000  331513.150234\n",
      "3    180000  275480.586399\n",
      "4    300000  315432.329499\n",
      "..      ...            ...\n",
      "745  330000  291191.455969\n",
      "746  450000  352476.731087\n",
      "747  180000  293305.292244\n",
      "748   90000  267782.644509\n",
      "749  360000  347985.079861\n",
      "\n",
      "[750 rows x 2 columns]\n",
      "𝜃_0 =  -176677.6167721477\n",
      "               Feature   Coefficient\n",
      "0         10percentage    671.584127\n",
      "1         12percentage    985.311764\n",
      "2           collegeGPA   1193.068081\n",
      "3              English    155.090380\n",
      "4              Logical    144.618183\n",
      "5                Quant    167.789339\n",
      "6               Domain  24416.460730\n",
      "7  ComputerProgramming     70.416148\n"
     ]
    }
   ],
   "source": [
    "# Huấn luyện lại mô hình my_best_model trên toàn bộ tập huấn luyện\n",
    "\n",
    "X_best_traind = train.iloc[:, [1, 2, 5, 7, 8, 9, 10, 11]]\n",
    "X_best_testd = test.iloc[:, [1, 2, 5, 7, 8, 9, 10, 11]]\n",
    "\n",
    "X_best_traind = X_best_traind.values\n",
    "X_best_testd = X_best_testd.values\n",
    "\n",
    "column_indices = [1, 2, 5, 7, 8, 9, 10, 11]\n",
    "name4 =train.columns[column_indices].tolist()\n",
    "reg1d = LinearRegression()\n",
    "reg1d.fit(X_best_traind, y_train)\n",
    "\n",
    "y_test_pre1d = reg1d.predict(X_best_testd)\n",
    "\n",
    "print(pd.DataFrame({'Actual': y_test, 'Predicted': y_test_pre1d}))\n",
    "print('𝜃_0 = ',reg1d.intercept_)\n",
    "print(pd.DataFrame({'Feature':name4 , 'Coefficient': reg1d.coef_}))"
   ]
  },
  {
   "cell_type": "code",
   "execution_count": 17,
   "metadata": {},
   "outputs": [
    {
     "name": "stdout",
     "output_type": "stream",
     "text": [
      "MAE: 104446.3670545784\n"
     ]
    }
   ],
   "source": [
    "# Gọi hàm MAE (tự cài đặt hoặc từ thư viện) trên tập kiểm tra với mô hình my_best_model\n",
    "print(\"MAE:\",np.mean(np.abs(y_test - y_test_pre1d)))"
   ]
  },
  {
   "cell_type": "markdown",
   "metadata": {},
   "source": [
    "Công thức hồi quy (phần trọng số làm tròn đến 3 chữ số thập phân, ví dụ 0.012345 $\\to$ 0.012)\n",
    "\n",
    "$$\\text{Salary} = -176677.617 + 671.584.10percentage + 985.312.12percentage + 1193.068.collegeGPA + 155.090.English + 144.618.Logical + 167.789.Quant + 24416.461.Domain + 70.416.ComputerProgramming$$"
   ]
  }
 ],
 "metadata": {
  "kernelspec": {
   "display_name": "Python 3 (ipykernel)",
   "language": "python",
   "name": "python3"
  },
  "language_info": {
   "codemirror_mode": {
    "name": "ipython",
    "version": 3
   },
   "file_extension": ".py",
   "mimetype": "text/x-python",
   "name": "python",
   "nbconvert_exporter": "python",
   "pygments_lexer": "ipython3",
   "version": "3.10.9"
  },
  "vscode": {
   "interpreter": {
    "hash": "15af99fd1a1a3f0a3416ea421564e792a8676a13670c2eed127d89ab0518a27b"
   }
  }
 },
 "nbformat": 4,
 "nbformat_minor": 2
}
